{
  "nbformat": 4,
  "nbformat_minor": 0,
  "metadata": {
    "colab": {
      "name": "Implementing ResNet TF2 subclassing API.ipynb",
      "provenance": [],
      "collapsed_sections": []
    },
    "kernelspec": {
      "name": "python3",
      "display_name": "Python 3"
    },
    "language_info": {
      "name": "python"
    },
    "accelerator": "GPU"
  },
  "cells": [
    {
      "cell_type": "code",
      "metadata": {
        "id": "F7AT1QlA9YXS"
      },
      "source": [
        "import tensorflow as tf\n",
        "import tensorflow_datasets as tfds\n",
        "import matplotlib.pyplot as plt\n",
        "import math\n",
        "import numpy as np\n",
        "import keras\n",
        "from keras.datasets import cifar10\n",
        "from keras.utils.np_utils import to_categorical\n",
        "from keras.preprocessing.image import ImageDataGenerator\n",
        "from keras.regularizers import l2"
      ],
      "execution_count": 1,
      "outputs": []
    },
    {
      "cell_type": "code",
      "metadata": {
        "colab": {
          "base_uri": "https://localhost:8080/"
        },
        "id": "SL9CovlrkZJN",
        "outputId": "2810572b-7640-44b6-ff77-2bfdd0d46fa6"
      },
      "source": [
        "(x_train, y_train), (x_test, y_test) = cifar10.load_data()\n",
        "\n",
        "# Input image dimensions.\n",
        "input_shape = x_train.shape[1:]\n",
        "\n",
        "# Normalize data.\n",
        "x_train = x_train.astype('float32') / 255\n",
        "x_test = x_test.astype('float32') / 255\n",
        "\n",
        "# If subtract pixel mean is enabled\n",
        "subtract_pixel_mean = True\n",
        "if subtract_pixel_mean:\n",
        "    x_train_mean = np.mean(x_train, axis=0)\n",
        "    x_train -= x_train_mean\n",
        "    x_test -= x_train_mean\n",
        "\n",
        "print('x_train shape:', x_train.shape)\n",
        "print(x_train.shape[0], 'train samples')\n",
        "print(x_test.shape[0], 'test samples')\n",
        "print('y_train shape:', y_train.shape)\n"
      ],
      "execution_count": 2,
      "outputs": [
        {
          "output_type": "stream",
          "text": [
            "Downloading data from https://www.cs.toronto.edu/~kriz/cifar-10-python.tar.gz\n",
            "170500096/170498071 [==============================] - 11s 0us/step\n",
            "170508288/170498071 [==============================] - 11s 0us/step\n",
            "x_train shape: (50000, 32, 32, 3)\n",
            "50000 train samples\n",
            "10000 test samples\n",
            "y_train shape: (50000, 1)\n"
          ],
          "name": "stdout"
        }
      ]
    },
    {
      "cell_type": "code",
      "metadata": {
        "id": "Y1KKQlkckWp5"
      },
      "source": [
        "datagen = ImageDataGenerator(\n",
        "        # set input mean to 0 over the dataset\n",
        "        featurewise_center=False,\n",
        "        # set each sample mean to 0\n",
        "        samplewise_center=False,\n",
        "        # divide inputs by std of dataset\n",
        "        featurewise_std_normalization=False,\n",
        "        # divide each input by its std\n",
        "        samplewise_std_normalization=False,\n",
        "        # apply ZCA whitening\n",
        "        zca_whitening=False,\n",
        "        # epsilon for ZCA whitening\n",
        "        zca_epsilon=1e-06,\n",
        "        # randomly rotate images in the range (deg 0 to 180)\n",
        "        rotation_range=0,\n",
        "        # randomly shift images horizontally\n",
        "        width_shift_range=0.1,\n",
        "        # randomly shift images vertically\n",
        "        height_shift_range=0.1,\n",
        "        # set range for random shear\n",
        "        shear_range=0.,\n",
        "        # set range for random zoom\n",
        "        zoom_range=0.,\n",
        "        # set range for random channel shifts\n",
        "        channel_shift_range=0.,\n",
        "        # set mode for filling points outside the input boundaries\n",
        "        fill_mode='nearest',\n",
        "        # value used for fill_mode = \"constant\"\n",
        "        cval=0.,\n",
        "        # randomly flip images\n",
        "        horizontal_flip=True,\n",
        "        # randomly flip images\n",
        "        vertical_flip=False,\n",
        "        # set rescaling factor (applied before any other transformation)\n",
        "        rescale=None,\n",
        "        # set function that will be applied on each input\n",
        "        preprocessing_function=None,\n",
        "        # image data format, either \"channels_first\" or \"channels_last\"\n",
        "        data_format=None,\n",
        "        # fraction of images reserved for validation (strictly between 0 and 1)\n",
        "        validation_split=0.0)\n",
        "\n",
        "    # Compute quantities required for featurewise normalization\n",
        "    # (std, mean, and principal components if ZCA whitening is applied).\n",
        "datagen.fit(x_train)"
      ],
      "execution_count": 3,
      "outputs": []
    },
    {
      "cell_type": "code",
      "metadata": {
        "id": "D2EWt3GWBreN"
      },
      "source": [
        "# import os\n",
        "# use_tpu = True\n",
        "\n",
        "# if use_tpu:\n",
        "#     assert 'COLAB_TPU_ADDR' in os.environ, 'Missing TPU; did you request a TPU in Notebook Settings?'\n",
        "\n",
        "# if 'COLAB_TPU_ADDR' in os.environ:\n",
        "#   TF_MASTER = 'grpc://{}'.format(os.environ['COLAB_TPU_ADDR'])\n",
        "# else:\n",
        "#   TF_MASTER=''"
      ],
      "execution_count": 4,
      "outputs": []
    },
    {
      "cell_type": "code",
      "metadata": {
        "id": "ozIwtkjwB0Rg"
      },
      "source": [
        "# resolver = tf.distribute.cluster_resolver.TPUClusterResolver(TF_MASTER)\n",
        "# tf.config.experimental_connect_to_cluster(resolver)\n",
        "# tf.tpu.experimental.initialize_tpu_system(resolver)\n",
        "# strategy = tf.distribute.experimental.TPUStrategy(resolver)"
      ],
      "execution_count": 5,
      "outputs": []
    },
    {
      "cell_type": "code",
      "metadata": {
        "id": "D9hFEFUUmwJO"
      },
      "source": [
        "class BasicBlock(tf.keras.layers.Layer):\n",
        "\n",
        "    def __init__(self, filter_num, stride=1):\n",
        "        super(BasicBlock, self).__init__()\n",
        "        self.conv1 = tf.keras.layers.Conv2D(filters=filter_num,\n",
        "                                            kernel_size=(3, 3),\n",
        "                                            strides=stride,\n",
        "                                            padding=\"same\",\n",
        "                                            kernel_initializer='he_normal',\n",
        "                                            kernel_regularizer=l2(1e-4))\n",
        "        self.bn1 = tf.keras.layers.BatchNormalization()\n",
        "        self.conv2 = tf.keras.layers.Conv2D(filters=filter_num,\n",
        "                                            kernel_size=(3, 3),\n",
        "                                            strides=1,\n",
        "                                            padding=\"same\")\n",
        "        self.bn2 = tf.keras.layers.BatchNormalization()\n",
        "        if stride != 1:\n",
        "            self.downsample = tf.keras.Sequential()\n",
        "            self.downsample.add(tf.keras.layers.Conv2D(filters=filter_num,\n",
        "                                                       kernel_size=(1, 1),\n",
        "                                                       strides=stride))\n",
        "            self.downsample.add(tf.keras.layers.BatchNormalization())\n",
        "        else:\n",
        "            self.downsample = lambda x: x\n",
        "\n",
        "    def call(self, inputs):\n",
        "        residual = self.downsample(inputs)\n",
        "\n",
        "        x = self.conv1(inputs)\n",
        "        x = self.bn1(x)\n",
        "        x = tf.nn.relu(x)\n",
        "        x = self.conv2(x)\n",
        "        x = self.bn2(x)\n",
        "\n",
        "        output = tf.nn.relu(tf.keras.layers.add([residual, x]))\n",
        "\n",
        "        return output\n",
        "\n",
        "\n",
        "class BottleNeck(tf.keras.layers.Layer):\n",
        "    def __init__(self, filter_num, stride=1):\n",
        "        super(BottleNeck, self).__init__()\n",
        "        self.conv1 = tf.keras.layers.Conv2D(filters=filter_num,\n",
        "                                            kernel_size=(1, 1),\n",
        "                                            strides=1,\n",
        "                                            padding='same',\n",
        "                                            kernel_initializer='he_normal',\n",
        "                                            kernel_regularizer=l2(1e-4))\n",
        "        self.bn1 = tf.keras.layers.BatchNormalization()\n",
        "        self.conv2 = tf.keras.layers.Conv2D(filters=filter_num,\n",
        "                                            kernel_size=(3, 3),\n",
        "                                            strides=stride,\n",
        "                                            padding='same')\n",
        "        self.bn2 = tf.keras.layers.BatchNormalization()\n",
        "        self.conv3 = tf.keras.layers.Conv2D(filters=filter_num * 4,\n",
        "                                            kernel_size=(1, 1),\n",
        "                                            strides=1,\n",
        "                                            padding='same')\n",
        "        self.bn3 = tf.keras.layers.BatchNormalization()\n",
        "\n",
        "        self.downsample = tf.keras.Sequential()\n",
        "        self.downsample.add(tf.keras.layers.Conv2D(filters=filter_num * 4,\n",
        "                                                   kernel_size=(1, 1),\n",
        "                                                   strides=stride))\n",
        "        self.downsample.add(tf.keras.layers.BatchNormalization())\n",
        "\n",
        "    def call(self, inputs, **kwargs):\n",
        "        residual = self.downsample(inputs)\n",
        "\n",
        "        x = self.conv1(inputs)\n",
        "        x = self.bn1(x)\n",
        "        x = tf.nn.relu(x)\n",
        "        x = self.conv2(x)\n",
        "        x = self.bn2(x)\n",
        "        x = tf.nn.relu(x)\n",
        "        x = self.conv3(x)\n",
        "        x = self.bn3(x)\n",
        "\n",
        "        output = tf.nn.relu(tf.keras.layers.add([residual, x]))\n",
        "\n",
        "        return output\n",
        "\n",
        "\n",
        "def make_basic_block_layer(filter_num, blocks, stride=1):\n",
        "    res_block = tf.keras.Sequential()\n",
        "    res_block.add(BasicBlock(filter_num, stride=stride))\n",
        "\n",
        "    for _ in range(1, blocks):\n",
        "        res_block.add(BasicBlock(filter_num, stride=1))\n",
        "\n",
        "    return res_block\n",
        "\n",
        "\n",
        "def make_bottleneck_layer(filter_num, blocks, stride=1):\n",
        "    res_block = tf.keras.Sequential()\n",
        "    res_block.add(BottleNeck(filter_num, stride=stride))\n",
        "\n",
        "    for _ in range(1, blocks):\n",
        "        res_block.add(BottleNeck(filter_num, stride=1))\n",
        "\n",
        "    return res_block"
      ],
      "execution_count": 6,
      "outputs": []
    },
    {
      "cell_type": "code",
      "metadata": {
        "id": "DTUNZLt3DVfG"
      },
      "source": [
        "class ResNetTypeI(tf.keras.Model):\n",
        "    def __init__(self, layer_params):\n",
        "        super(ResNetTypeI, self).__init__()\n",
        "\n",
        "        self.conv1 = tf.keras.layers.Conv2D(filters=64,\n",
        "                                            kernel_size=(7, 7),\n",
        "                                            strides=2,\n",
        "                                            padding=\"same\")\n",
        "        self.bn1 = tf.keras.layers.BatchNormalization()\n",
        "        self.pool1 = tf.keras.layers.MaxPool2D(pool_size=(3, 3),\n",
        "                                               strides=2,\n",
        "                                               padding=\"same\")\n",
        "\n",
        "        self.layer1 = make_basic_block_layer(filter_num=64,\n",
        "                                             blocks=layer_params[0])\n",
        "        self.layer2 = make_basic_block_layer(filter_num=128,\n",
        "                                             blocks=layer_params[1],\n",
        "                                             stride=2)\n",
        "        self.layer3 = make_basic_block_layer(filter_num=256,\n",
        "                                             blocks=layer_params[2],\n",
        "                                             stride=2)\n",
        "        self.layer4 = make_basic_block_layer(filter_num=512,\n",
        "                                             blocks=layer_params[3],\n",
        "                                             stride=2)\n",
        "\n",
        "        self.avgpool = tf.keras.layers.GlobalAveragePooling2D()\n",
        "        self.fc = tf.keras.layers.Dense(units=10, activation=tf.keras.activations.softmax)\n",
        "\n",
        "    def call(self, inputs, mask=None):\n",
        "  \n",
        "        x = self.conv1(inputs)\n",
        "        x = self.bn1(x)\n",
        "        x = tf.nn.relu(x)\n",
        "        x = self.pool1(x)\n",
        "        x = self.layer1(x)\n",
        "        x = self.layer2(x)\n",
        "        x = self.layer3(x)\n",
        "        x = self.layer4(x)\n",
        "        x = self.avgpool(x)\n",
        "        output = self.fc(x)\n",
        "\n",
        "        return output\n",
        "\n",
        "\n",
        "class ResNetTypeII(tf.keras.Model):\n",
        "    def __init__(self, layer_params):\n",
        "        super(ResNetTypeII, self).__init__()\n",
        "        self.conv1 = tf.keras.layers.Conv2D(filters=64,\n",
        "                                            kernel_size=(7, 7),\n",
        "                                            strides=2,\n",
        "                                            padding=\"same\")\n",
        "        self.bn1 = tf.keras.layers.BatchNormalization()\n",
        "        self.pool1 = tf.keras.layers.MaxPool2D(pool_size=(3, 3),\n",
        "                                               strides=2,\n",
        "                                               padding=\"same\")\n",
        "\n",
        "        self.layer1 = make_bottleneck_layer(filter_num=64,\n",
        "                                            blocks=layer_params[0])\n",
        "        self.layer2 = make_bottleneck_layer(filter_num=128,\n",
        "                                            blocks=layer_params[1],\n",
        "                                            stride=2)\n",
        "        self.layer3 = make_bottleneck_layer(filter_num=256,\n",
        "                                            blocks=layer_params[2],\n",
        "                                            stride=2)\n",
        "        self.layer4 = make_bottleneck_layer(filter_num=512,\n",
        "                                            blocks=layer_params[3],\n",
        "                                            stride=2)\n",
        "\n",
        "        self.avgpool = tf.keras.layers.GlobalAveragePooling2D()\n",
        "        self.fc = tf.keras.layers.Dense(units=NUM_CLASSES, activation=tf.keras.activations.softmax)\n",
        "\n",
        "    def call(self, inputs, mask=None):\n",
        "        x = self.conv1(inputs)\n",
        "        x = self.bn1(x)\n",
        "        x = tf.nn.relu(x)\n",
        "        x = self.pool1(x)\n",
        "        x = self.layer1(x)\n",
        "        x = self.layer2(x)\n",
        "        x = self.layer3(x)\n",
        "        x = self.layer4(x)\n",
        "        x = self.avgpool(x)\n",
        "        output = self.fc(x)\n",
        "\n",
        "        return output\n",
        "\n",
        "\n",
        "def resnet_18():\n",
        "    return ResNetTypeI(layer_params=[2, 2, 2, 2])\n",
        "\n",
        "\n",
        "def resnet_34():\n",
        "    return ResNetTypeI(layer_params=[3, 4, 6, 3])\n",
        "\n",
        "\n",
        "def resnet_50():\n",
        "    return ResNetTypeII(layer_params=[3, 4, 6, 3])\n",
        "\n",
        "\n",
        "def resnet_101():\n",
        "    return ResNetTypeII(layer_params=[3, 4, 23, 3])\n",
        "\n",
        "\n",
        "def resnet_152():\n",
        "    return ResNetTypeII(layer_params=[3, 8, 36, 3])"
      ],
      "execution_count": 7,
      "outputs": []
    },
    {
      "cell_type": "code",
      "metadata": {
        "colab": {
          "base_uri": "https://localhost:8080/",
          "height": 265
        },
        "id": "5OuUPmq7WR7j",
        "outputId": "adc7a2a9-ef57-4d2c-f802-6c14e0a2486c"
      },
      "source": [
        "def scheduler(epoch):\n",
        "\n",
        "  initial_lrate = (10 ** -3)\n",
        "  k = 0.1\n",
        "  lrate = initial_lrate * math.exp(-k * (epoch))\n",
        "\n",
        "  return lrate\n",
        "epochs = [i for i in range(1, 50, 1)]\n",
        "lrate = [scheduler(i) for i in range(1, 50, 1)]\n",
        "plt.plot(epochs, lrate)\n",
        "lrschedule = tf.keras.callbacks.LearningRateScheduler(scheduler)\n",
        "earlystopping = tf.keras.callbacks.EarlyStopping(monitor='val_loss', patience=15)"
      ],
      "execution_count": 8,
      "outputs": [
        {
          "output_type": "display_data",
          "data": {
            "image/png": "[encoded data removed]",
            "text/plain": [
              "<Figure size 432x288 with 1 Axes>"
            ]
          },
          "metadata": {
            "tags": [],
            "needs_background": "light"
          }
        }
      ]
    },
    {
      "cell_type": "code",
      "metadata": {
        "colab": {
          "base_uri": "https://localhost:8080/"
        },
        "id": "YGfkXD946kUZ",
        "outputId": "5ec69144-6fbe-4d2c-ac58-188a8ae4d55f"
      },
      "source": [
        "# with strategy.scope():\n",
        "model = resnet_34()\n",
        "loss_object = tf.keras.losses.SparseCategoricalCrossentropy()\n",
        "optimizer = tf.keras.optimizers.Adam()\n",
        "train_accuracy = tf.keras.metrics.SparseCategoricalAccuracy(name='train_accuracy')\n",
        "model.compile(optimizer=optimizer, loss=loss_object, metrics=train_accuracy)\n",
        "\n",
        "history = model.fit(datagen.flow(x_train, y_train, batch_size=32),\n",
        "                      validation_data=(x_test, y_test),\n",
        "                      epochs=50, callbacks=[lrschedule, earlystopping])"
      ],
      "execution_count": 9,
      "outputs": [
        {
          "output_type": "stream",
          "text": [
            "Epoch 1/50\n",
            "1563/1563 [==============================] - 159s 97ms/step - loss: 2.1379 - train_accuracy: 0.4099 - val_loss: 1.9169 - val_train_accuracy: 0.4862\n",
            "Epoch 2/50\n",
            "1563/1563 [==============================] - 150s 96ms/step - loss: 1.6472 - train_accuracy: 0.5284 - val_loss: 1.4588 - val_train_accuracy: 0.5653\n",
            "Epoch 3/50\n",
            "1563/1563 [==============================] - 150s 96ms/step - loss: 1.3379 - train_accuracy: 0.6007 - val_loss: 1.3015 - val_train_accuracy: 0.6161\n",
            "Epoch 4/50\n",
            "1563/1563 [==============================] - 151s 97ms/step - loss: 1.1811 - train_accuracy: 0.6417 - val_loss: 1.2531 - val_train_accuracy: 0.6362\n",
            "Epoch 5/50\n",
            "1563/1563 [==============================] - 151s 97ms/step - loss: 1.0584 - train_accuracy: 0.6789 - val_loss: 1.0883 - val_train_accuracy: 0.6693\n",
            "Epoch 6/50\n",
            "1563/1563 [==============================] - 151s 97ms/step - loss: 0.9876 - train_accuracy: 0.7005 - val_loss: 0.9909 - val_train_accuracy: 0.7067\n",
            "Epoch 7/50\n",
            "1563/1563 [==============================] - 151s 97ms/step - loss: 0.9218 - train_accuracy: 0.7234 - val_loss: 0.8712 - val_train_accuracy: 0.7357\n",
            "Epoch 8/50\n",
            "1563/1563 [==============================] - 151s 96ms/step - loss: 0.8530 - train_accuracy: 0.7490 - val_loss: 0.7832 - val_train_accuracy: 0.7669\n",
            "Epoch 9/50\n",
            "1563/1563 [==============================] - 151s 96ms/step - loss: 0.8033 - train_accuracy: 0.7648 - val_loss: 0.7996 - val_train_accuracy: 0.7670\n",
            "Epoch 10/50\n",
            "1563/1563 [==============================] - 150s 96ms/step - loss: 0.7541 - train_accuracy: 0.7782 - val_loss: 0.7603 - val_train_accuracy: 0.7726\n",
            "Epoch 11/50\n",
            "1563/1563 [==============================] - 150s 96ms/step - loss: 0.7141 - train_accuracy: 0.7900 - val_loss: 1.9774 - val_train_accuracy: 0.7087\n",
            "Epoch 12/50\n",
            "1563/1563 [==============================] - 149s 96ms/step - loss: 0.6809 - train_accuracy: 0.8019 - val_loss: 0.7232 - val_train_accuracy: 0.7928\n",
            "Epoch 13/50\n",
            "1563/1563 [==============================] - 150s 96ms/step - loss: 0.6450 - train_accuracy: 0.8123 - val_loss: 0.6834 - val_train_accuracy: 0.8046\n",
            "Epoch 14/50\n",
            "1563/1563 [==============================] - 149s 95ms/step - loss: 0.6099 - train_accuracy: 0.8232 - val_loss: 0.6697 - val_train_accuracy: 0.8071\n",
            "Epoch 15/50\n",
            "1563/1563 [==============================] - 149s 96ms/step - loss: 0.5883 - train_accuracy: 0.8312 - val_loss: 0.6937 - val_train_accuracy: 0.7955\n",
            "Epoch 16/50\n",
            "1563/1563 [==============================] - 150s 96ms/step - loss: 0.5638 - train_accuracy: 0.8380 - val_loss: 0.6325 - val_train_accuracy: 0.8180\n",
            "Epoch 17/50\n",
            "1563/1563 [==============================] - 150s 96ms/step - loss: 0.5406 - train_accuracy: 0.8455 - val_loss: 0.6529 - val_train_accuracy: 0.8096\n",
            "Epoch 18/50\n",
            "1563/1563 [==============================] - 149s 95ms/step - loss: 0.5123 - train_accuracy: 0.8534 - val_loss: 0.6286 - val_train_accuracy: 0.8191\n",
            "Epoch 19/50\n",
            "1563/1563 [==============================] - 150s 96ms/step - loss: 0.4952 - train_accuracy: 0.8595 - val_loss: 0.6306 - val_train_accuracy: 0.8159\n",
            "Epoch 20/50\n",
            "1563/1563 [==============================] - 149s 95ms/step - loss: 0.4792 - train_accuracy: 0.8633 - val_loss: 0.5984 - val_train_accuracy: 0.8273\n",
            "Epoch 21/50\n",
            "1563/1563 [==============================] - 150s 96ms/step - loss: 0.4573 - train_accuracy: 0.8715 - val_loss: 0.6105 - val_train_accuracy: 0.8278\n",
            "Epoch 22/50\n",
            "1563/1563 [==============================] - 150s 96ms/step - loss: 0.4457 - train_accuracy: 0.8764 - val_loss: 0.6137 - val_train_accuracy: 0.8257\n",
            "Epoch 23/50\n",
            "1563/1563 [==============================] - 150s 96ms/step - loss: 0.4301 - train_accuracy: 0.8809 - val_loss: 0.6095 - val_train_accuracy: 0.8298\n",
            "Epoch 24/50\n",
            "1563/1563 [==============================] - 150s 96ms/step - loss: 0.4150 - train_accuracy: 0.8857 - val_loss: 0.6022 - val_train_accuracy: 0.8345\n",
            "Epoch 25/50\n",
            "1563/1563 [==============================] - 150s 96ms/step - loss: 0.4004 - train_accuracy: 0.8907 - val_loss: 0.6051 - val_train_accuracy: 0.8300\n",
            "Epoch 26/50\n",
            "1563/1563 [==============================] - 150s 96ms/step - loss: 0.3865 - train_accuracy: 0.8940 - val_loss: 0.6094 - val_train_accuracy: 0.8276\n",
            "Epoch 27/50\n",
            "1563/1563 [==============================] - 149s 96ms/step - loss: 0.3767 - train_accuracy: 0.8978 - val_loss: 0.6025 - val_train_accuracy: 0.8333\n",
            "Epoch 28/50\n",
            "1563/1563 [==============================] - 150s 96ms/step - loss: 0.3666 - train_accuracy: 0.9018 - val_loss: 0.6197 - val_train_accuracy: 0.8362\n",
            "Epoch 29/50\n",
            "1563/1563 [==============================] - 150s 96ms/step - loss: 0.3542 - train_accuracy: 0.9042 - val_loss: 0.6060 - val_train_accuracy: 0.8365\n",
            "Epoch 30/50\n",
            "1563/1563 [==============================] - 149s 96ms/step - loss: 0.3408 - train_accuracy: 0.9103 - val_loss: 0.6233 - val_train_accuracy: 0.8347\n",
            "Epoch 31/50\n",
            "1563/1563 [==============================] - 150s 96ms/step - loss: 0.3345 - train_accuracy: 0.9121 - val_loss: 0.6080 - val_train_accuracy: 0.8394\n",
            "Epoch 32/50\n",
            "1563/1563 [==============================] - 152s 97ms/step - loss: 0.3280 - train_accuracy: 0.9144 - val_loss: 0.6181 - val_train_accuracy: 0.8314\n",
            "Epoch 33/50\n",
            "1563/1563 [==============================] - 150s 96ms/step - loss: 0.3181 - train_accuracy: 0.9178 - val_loss: 0.6089 - val_train_accuracy: 0.8382\n",
            "Epoch 34/50\n",
            "1563/1563 [==============================] - 151s 97ms/step - loss: 0.3120 - train_accuracy: 0.9186 - val_loss: 0.6056 - val_train_accuracy: 0.8365\n",
            "Epoch 35/50\n",
            "1563/1563 [==============================] - 154s 98ms/step - loss: 0.3014 - train_accuracy: 0.9217 - val_loss: 0.6220 - val_train_accuracy: 0.8380\n"
          ],
          "name": "stdout"
        }
      ]
    },
    {
      "cell_type": "code",
      "metadata": {
        "colab": {
          "base_uri": "https://localhost:8080/",
          "height": 241
        },
        "id": "zdQas4xq7K4l",
        "outputId": "0b7f26c1-067c-40ff-fbe8-53196fce24b1"
      },
      "source": [
        "# history_dict = model.history\n",
        "\n",
        "loss = history.history[\"loss\"]\n",
        "train_accuracy = history.history[\"train_accuracy\"]\n",
        "val_loss = history.history[\"val_loss\"]\n",
        "val_train_accuracy = history.history[\"val_train_accuracy\"]\n",
        "\n",
        "epochs = range(1, len(loss) + 1)\n",
        "fig, (ax1, ax2) = plt.subplots(1, 2)\n",
        "\n",
        "fig.set_figheight(5)\n",
        "fig.set_figwidth(25)\n",
        "\n",
        "ax1.plot(epochs, loss, label = \"Training Loss\")\n",
        "ax1.plot(epochs, val_loss, label = \"Validation Loss\")\n",
        "ax1.set(xlabel = \"Epochs\", ylabel = \"Loss\")\n",
        "ax1.legend()\n",
        "\n",
        "ax2.plot(epochs, train_accuracy, label = \"Training Accuracy\")\n",
        "ax2.plot(epochs, val_train_accuracy, label = \"Validation Accuracy\")\n",
        "ax2.set(xlabel = \"Epochs\", ylabel = \"Accuracy\")\n",
        "ax2.legend()\n",
        "\n",
        "plt.show()"
      ],
      "execution_count": 16,
      "outputs": [
        {
          "output_type": "display_data",
          "data": {
            "image/png": "[encoded data removed]",
            "text/plain": [
              "<Figure size 1800x360 with 2 Axes>"
            ]
          },
          "metadata": {
            "tags": [],
            "needs_background": "light"
          }
        }
      ]
    },
    {
      "cell_type": "code",
      "metadata": {
        "colab": {
          "base_uri": "https://localhost:8080/"
        },
        "id": "cvNWc8Y9gMdm",
        "outputId": "4a338c0d-b8c7-458e-8cc1-53a4f31d1fae"
      },
      "source": [
        "model.save(\"resnet-34\")"
      ],
      "execution_count": 11,
      "outputs": [
        {
          "output_type": "stream",
          "text": [
            "WARNING:absl:Found untraced functions such as conv2d_1_layer_call_fn, conv2d_1_layer_call_and_return_conditional_losses, conv2d_2_layer_call_fn, conv2d_2_layer_call_and_return_conditional_losses, conv2d_3_layer_call_fn while saving (showing 5 of 160). These functions will not be directly callable after loading.\n"
          ],
          "name": "stderr"
        },
        {
          "output_type": "stream",
          "text": [
            "INFO:tensorflow:Assets written to: resnet-34/assets\n"
          ],
          "name": "stdout"
        },
        {
          "output_type": "stream",
          "text": [
            "INFO:tensorflow:Assets written to: resnet-34/assets\n"
          ],
          "name": "stderr"
        }
      ]
    },
    {
      "cell_type": "code",
      "metadata": {
        "colab": {
          "base_uri": "https://localhost:8080/"
        },
        "id": "onxvZ484BbAt",
        "outputId": "e839e63c-ab3f-448d-9bdc-5b2d4edcb021"
      },
      "source": [
        "!zip -r /content/resnet-34.zip /content/resnet-34"
      ],
      "execution_count": 15,
      "outputs": [
        {
          "output_type": "stream",
          "text": [
            "updating: content/resnet-34/ (stored 0%)\n",
            "  adding: content/resnet-34/keras_metadata.pb (deflated 95%)\n",
            "  adding: content/resnet-34/variables/ (stored 0%)\n",
            "  adding: content/resnet-34/variables/variables.index (deflated 80%)\n",
            "  adding: content/resnet-34/variables/variables.data-00000-of-00001 (deflated 28%)\n",
            "  adding: content/resnet-34/saved_model.pb (deflated 91%)\n",
            "  adding: content/resnet-34/assets/ (stored 0%)\n"
          ],
          "name": "stdout"
        }
      ]
    },
    {
      "cell_type": "code",
      "metadata": {
        "id": "hvmdUbE5BeVV"
      },
      "source": [
        ""
      ],
      "execution_count": null,
      "outputs": []
    }
  ]
}